{
 "cells": [
  {
   "cell_type": "code",
   "execution_count": null,
   "metadata": {},
   "outputs": [],
   "source": [
    "# 将JSON写入文件\n",
    "最简单的方法，以JSON格式将数据写入使用Python是使用存储在你的数据的文件dict对象，它可以包含\n",
    "其他嵌套dictS，数组，布尔值，或其他原始类型，如整数和字符串。\n",
    "内置的json包具有神奇的代码，可以将Python dict对象转换为序列化的JSON字符串。"
   ]
  },
  {
   "cell_type": "code",
   "execution_count": 4,
   "metadata": {},
   "outputs": [],
   "source": [
    "import json\n",
    "data = {}\n",
    "data['people'] = []\n",
    "data['people'].append({ \n",
    "    'name': 'Scott', \n",
    "    'website': 'stackabuse.com', \n",
    "    'from': 'Nebraska'\n",
    "})\n",
    "data['people'].append({\n",
    "    'name': 'Larry', \n",
    "    'website': 'google.com', \n",
    "    'from': 'Michigan'\n",
    "})\n",
    "\n",
    "data['people'].append({\n",
    "    'name': 'Tim', \n",
    "    'website': 'apple.com', \n",
    "    'from': 'Alabama'\n",
    "})\n",
    "\n",
    "with open('data.txt', 'w') as outfile:\n",
    "    json.dump(data, outfile)"
   ]
  },
  {
   "cell_type": "code",
   "execution_count": null,
   "metadata": {},
   "outputs": [],
   "source": [
    "导入json库后，我们构建一些简单的数据写入文件。重要的部分在最后，当我们使用with语句打开\n",
    "目标文件，然后使用json.dump将data对象写入outfile文件。\n",
    "json.dump值得一提的方法上的一个细微变化是json.dumps，它返回实际的JSON字符串，而不是直接\n",
    "将其发送到可写对象。如果你需要对JSON字符串进行一些更改的话。"
   ]
  },
  {
   "cell_type": "code",
   "execution_count": null,
   "metadata": {},
   "outputs": [],
   "source": [
    "# 从文件读取JSON\n",
    "另一方面，从文件读取JSON数据就像将其写入文件一样荣。json再次使用相同的包，我们可以直接\n",
    "从文件对象中提取并解析JSON字符串。示例代码如下："
   ]
  },
  {
   "cell_type": "code",
   "execution_count": 5,
   "metadata": {},
   "outputs": [
    {
     "name": "stdout",
     "output_type": "stream",
     "text": [
      "Name:Scott\n",
      "website: stackabuse.com\n",
      "From: Nebraska\n",
      "\n",
      "Name:Larry\n",
      "website: google.com\n",
      "From: Michigan\n",
      "\n",
      "Name:Tim\n",
      "website: apple.com\n",
      "From: Alabama\n",
      "\n"
     ]
    }
   ],
   "source": [
    "import json\n",
    "with open('data.txt') as json_file:\n",
    "    for p in data['people']:\n",
    "        print('Name:' + p['name'])\n",
    "        print('website: ' + p['website'])\n",
    "        print('From: '+ p['from'])\n",
    "        print('')"
   ]
  },
  {
   "cell_type": "code",
   "execution_count": null,
   "metadata": {},
   "outputs": [],
   "source": [
    "json.load是这里要注意的重要方法。它从文件中读取字符串，解析JSON数据，dict使用数据填充\n",
    "Python并将其返回给你。\n",
    "就像json.dump， json.load有一个可供选择的方法，可以让你直接处理字符串。此方法就是json.loads,\n",
    "考虑一下你正在调用返回JSON的REST GET端点端点情况，这些数据以字符串的形式出现，你可以\n",
    "json.loads直接传递给它。"
   ]
  },
  {
   "cell_type": "code",
   "execution_count": null,
   "metadata": {},
   "outputs": [],
   "source": []
  },
  {
   "cell_type": "code",
   "execution_count": null,
   "metadata": {},
   "outputs": [],
   "source": []
  },
  {
   "cell_type": "code",
   "execution_count": null,
   "metadata": {},
   "outputs": [],
   "source": []
  },
  {
   "cell_type": "code",
   "execution_count": null,
   "metadata": {},
   "outputs": [],
   "source": []
  },
  {
   "cell_type": "code",
   "execution_count": null,
   "metadata": {},
   "outputs": [],
   "source": []
  },
  {
   "cell_type": "code",
   "execution_count": null,
   "metadata": {},
   "outputs": [],
   "source": []
  },
  {
   "cell_type": "code",
   "execution_count": null,
   "metadata": {},
   "outputs": [],
   "source": []
  },
  {
   "cell_type": "code",
   "execution_count": null,
   "metadata": {},
   "outputs": [],
   "source": []
  },
  {
   "cell_type": "code",
   "execution_count": null,
   "metadata": {},
   "outputs": [],
   "source": []
  },
  {
   "cell_type": "code",
   "execution_count": null,
   "metadata": {},
   "outputs": [],
   "source": []
  }
 ],
 "metadata": {
  "kernelspec": {
   "display_name": "Python 3",
   "language": "python",
   "name": "python3"
  },
  "language_info": {
   "codemirror_mode": {
    "name": "ipython",
    "version": 3
   },
   "file_extension": ".py",
   "mimetype": "text/x-python",
   "name": "python",
   "nbconvert_exporter": "python",
   "pygments_lexer": "ipython3",
   "version": "3.7.4"
  },
  "toc": {
   "base_numbering": 1,
   "nav_menu": {},
   "number_sections": true,
   "sideBar": true,
   "skip_h1_title": false,
   "title_cell": "Table of Contents",
   "title_sidebar": "Contents",
   "toc_cell": false,
   "toc_position": {},
   "toc_section_display": true,
   "toc_window_display": false
  }
 },
 "nbformat": 4,
 "nbformat_minor": 2
}
