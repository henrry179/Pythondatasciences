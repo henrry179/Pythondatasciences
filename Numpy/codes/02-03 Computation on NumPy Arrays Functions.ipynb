{
 "cells": [
  {
   "cell_type": "markdown",
   "metadata": {},
   "source": [
    "# Computation on NumPy Arrays: Universal Functions"
   ]
  },
  {
   "cell_type": "markdown",
   "metadata": {},
   "source": [
    "Up until now, we have been discussing some of the basic nuts and bolts of NumPy;\n",
    "in the next few sections, we will dive into the reasons that NumPy is so important\n",
    "in the Python data science world.Namely, it provides an easy and flexible interface\n",
    "to optimized computation with arrays of data.\n",
    "\n",
    "Computation on NumPy arrays can be very fast, or it can be very slow.The key to making\n",
    "it fast is to use vectorized operations, generally implemented through NumPy`s universal\n",
    "functions(ufuncs).This section motivates the need for NumPy`s ufuncs, which can be\n",
    "used to make repeated calculations on array elements much more efficient.It then\n",
    "introduces many of the most common and useful arithmetic ufuncs available in the \n",
    "NumPy package."
   ]
  },
  {
   "cell_type": "markdown",
   "metadata": {},
   "source": [
    "# The Slowness of Loops"
   ]
  },
  {
   "cell_type": "markdown",
   "metadata": {},
   "source": [
    "Python`s default implementation (known as CPython) does some operations very slowly.\n",
    "This is in part due to the dynamic, interpreted nature of the language: the fact that\n",
    "types are flexible, so that sequences of operations cannot be compiled down to efficient\n",
    "machine code as in languages like C and Fortran. Recently there have been various\n",
    "attempts to address this weakness:well-known examples are the PYPy project, a just\n",
    "    in time compiled implementation of Python; the Cython project, which converts\n",
    "Python code to compilable C code; and the Numba project, which converts snippets \n",
    "of Python code to fast LLVM bytecode.Each of these has its strengths and weaknesses, but\n",
    "it is safe to say that none of the three approaches has yet surpassed the reach and popularity\n",
    "of the standard CPython engine.\n",
    "\n",
    "The relative sluggishness of Python generally manifests itself situations where many\n",
    "small operations are being repeated - for instance looping over arrays to operate \n",
    "on each element. For example, imagine we have an array of values and we`d like \n",
    "to compute the reciprocal of each.A straightforward approach might look like this:"
   ]
  },
  {
   "cell_type": "code",
   "execution_count": 2,
   "metadata": {},
   "outputs": [
    {
     "data": {
      "text/plain": [
       "array([0.16666667, 1.        , 0.25      , 0.25      , 0.125     ])"
      ]
     },
     "execution_count": 2,
     "metadata": {},
     "output_type": "execute_result"
    }
   ],
   "source": [
    "import numpy as np\n",
    "np.random.seed((0))\n",
    "\n",
    "def compute_reciprocals(values):\n",
    "    output = np.empty(len(values))\n",
    "    for i in  range(len(values)):\n",
    "        output[i] = 1.0 / values[i]\n",
    "    return output\n",
    "\n",
    "values = np.random.randint(1, 10, size = 5)\n",
    "compute_reciprocals(values)"
   ]
  },
  {
   "cell_type": "markdown",
   "metadata": {},
   "source": [
    "This implementation probably feels fairly natural to someone from, say, a C or \n",
    "Java background.But if we measure the execution time of this code for a large input, \n",
    "we see that this operation is very slow, perhaps surprisingly so! We`ll benchmark \n",
    "this with IPython`s %timeit magic (discussed in Profiling and Timing Code):"
   ]
  },
  {
   "cell_type": "code",
   "execution_count": 3,
   "metadata": {},
   "outputs": [
    {
     "name": "stdout",
     "output_type": "stream",
     "text": [
      "4.39 s ± 162 ms per loop (mean ± std. dev. of 7 runs, 1 loop each)\n"
     ]
    }
   ],
   "source": [
    "big_array = np.random.randint(1, 100, size = 1000000)\n",
    "%timeit compute_reciprocals(big_array)"
   ]
  },
  {
   "cell_type": "markdown",
   "metadata": {},
   "source": [
    "Introducing UFuncs\n",
    "For many types of operations, NumPy provides a convenient interface into just this kind of statically\n",
    "typed, compiled routine, This is known as a vectorized operation. This can be accomplished simply\n",
    "performing an operation on the array, which will then be applied to each element.This vectorized \n",
    "approach is designed to push the loop into the compiled layer that underlies NumPy, leading to much\n",
    "faster execution.\n",
    "\n",
    "Compare the result of the following two:"
   ]
  },
  {
   "cell_type": "code",
   "execution_count": 4,
   "metadata": {},
   "outputs": [
    {
     "name": "stdout",
     "output_type": "stream",
     "text": [
      "[0.16666667 1.         0.25       0.25       0.125     ]\n",
      "[0.16666667 1.         0.25       0.25       0.125     ]\n"
     ]
    }
   ],
   "source": [
    "print(compute_reciprocals(values))\n",
    "print(1.0 / values)"
   ]
  },
  {
   "cell_type": "markdown",
   "metadata": {},
   "source": [
    "Looking at the execution time for our big array, we see that it completes orders of magnitude faster then\n",
    "the Python loop:"
   ]
  },
  {
   "cell_type": "code",
   "execution_count": 5,
   "metadata": {},
   "outputs": [
    {
     "name": "stdout",
     "output_type": "stream",
     "text": [
      "8.91 ms ± 460 µs per loop (mean ± std. dev. of 7 runs, 100 loops each)\n"
     ]
    }
   ],
   "source": [
    "%timeit (1.0 / big_array)"
   ]
  },
  {
   "cell_type": "markdown",
   "metadata": {},
   "source": [
    "Vectorized operations in NumPy are implemented via ufuncs, whose main purpose is to auickly execute\n",
    "repeated operations on values in NumPy arrays. Ufuncs are extremely flexible-before we saw an operation\n",
    "between a scalar and an array, but we can also operate between two arrays:"
   ]
  },
  {
   "cell_type": "code",
   "execution_count": 6,
   "metadata": {},
   "outputs": [
    {
     "data": {
      "text/plain": [
       "array([0.        , 0.5       , 0.66666667, 0.75      , 0.8       ])"
      ]
     },
     "execution_count": 6,
     "metadata": {},
     "output_type": "execute_result"
    }
   ],
   "source": [
    "np.arange(5) / np.arange(1, 6)"
   ]
  },
  {
   "cell_type": "code",
   "execution_count": 7,
   "metadata": {},
   "outputs": [
    {
     "ename": "SyntaxError",
     "evalue": "invalid syntax (<ipython-input-7-8ceff7b6f01b>, line 1)",
     "output_type": "error",
     "traceback": [
      "\u001b[1;36m  File \u001b[1;32m\"<ipython-input-7-8ceff7b6f01b>\"\u001b[1;36m, line \u001b[1;32m1\u001b[0m\n\u001b[1;33m    And ufunc operations are not limited to one-dimensional arrays-they can also act on multi-dimensional\u001b[0m\n\u001b[1;37m            ^\u001b[0m\n\u001b[1;31mSyntaxError\u001b[0m\u001b[1;31m:\u001b[0m invalid syntax\n"
     ]
    }
   ],
   "source": [
    "And ufunc operations are not limited to one-dimensional arrays-they can also act on multi-dimensional\n",
    "arrays as well:"
   ]
  },
  {
   "cell_type": "code",
   "execution_count": null,
   "metadata": {},
   "outputs": [],
   "source": [
    "x = np.arange(9).reshape((3, 3))\n",
    "2 ** x"
   ]
  },
  {
   "cell_type": "code",
   "execution_count": null,
   "metadata": {},
   "outputs": [],
   "source": [
    "Computations using vectorization through ufuncs are nearly always more efficient than their counterpart\n",
    "implementted using Python loops, especially as the arrays grow in size. Any time you see such a loop\n",
    "in a Python script, you should consider whether it can be replaced with a vectorized expression."
   ]
  },
  {
   "cell_type": "code",
   "execution_count": null,
   "metadata": {},
   "outputs": [],
   "source": [
    "## Exploring NumPy`s UFuncs"
   ]
  },
  {
   "cell_type": "code",
   "execution_count": null,
   "metadata": {},
   "outputs": [],
   "source": [
    "Ufuncs exist in two flavors: unary ufuncs, which operate on a single input, and binary ufuncs, which\n",
    "operate on two inputs.We`ll see examples of both these types of functions here."
   ]
  },
  {
   "cell_type": "code",
   "execution_count": null,
   "metadata": {},
   "outputs": [],
   "source": [
    "### Array arithmetic"
   ]
  },
  {
   "cell_type": "code",
   "execution_count": null,
   "metadata": {},
   "outputs": [],
   "source": [
    "NumPy`s ufuncs feel very natural to use because they make use of Python`s native arithmetic \n",
    "operators. The standard addition, subtraction, multiplication, and division can all be used:"
   ]
  },
  {
   "cell_type": "code",
   "execution_count": null,
   "metadata": {},
   "outputs": [],
   "source": [
    "x = np.arange(4)\n",
    "print(\"x     =\", x)\n",
    "print(\"x + 5 =\", x + 5)\n",
    "print(\"x - 5 = \", x - 5)\n",
    "print(\"x * 2 =\", x * 2)\n",
    "print(\"x / 2 =\", x / 2)\n",
    "print(\"x // 2 =\", x // 2)      # floor division"
   ]
  },
  {
   "cell_type": "code",
   "execution_count": null,
   "metadata": {},
   "outputs": [],
   "source": [
    "There is also a unary ufunc for negation, and a ** operator for exponentiation, and a % operator for \n",
    "modulus:"
   ]
  },
  {
   "cell_type": "code",
   "execution_count": null,
   "metadata": {},
   "outputs": [],
   "source": [
    "print(\"-x     =\",  -x)\n",
    "print(\"x ** 2 =\", x ** 2)\n",
    "print(\"x % 2 =\", x % 2)"
   ]
  },
  {
   "cell_type": "markdown",
   "metadata": {},
   "source": [
    "In addition, these can be strung together however you wish, and the standard order of operations is \n",
    "respected:"
   ]
  },
  {
   "cell_type": "code",
   "execution_count": null,
   "metadata": {},
   "outputs": [],
   "source": [
    "-(0.5*x + 1) ** 2"
   ]
  },
  {
   "cell_type": "markdown",
   "metadata": {},
   "source": [
    "Each of these arithmetic operations are simply convenient wrappers around specific functions built into\n",
    "NumPy; for example, the + operator is a wrapper for the add function:"
   ]
  },
  {
   "cell_type": "code",
   "execution_count": null,
   "metadata": {},
   "outputs": [],
   "source": [
    "np.add(x, 2)"
   ]
  },
  {
   "cell_type": "markdown",
   "metadata": {},
   "source": [
    "The following table lists arithmetic operators implemented in NumPy:\n",
    "    \n",
    "    Operator          Equivalent ufunc              Description\n",
    "-----------------------------------------------------------------------------------------\n",
    "        +              np.add                   Addition(e.g, 1 + 1 = 2)    \n",
    "        -              np.subtract              Subtraction(e.g, 3 - 2 = 1)\n",
    "        -              np.negative              Unary negation (e.g, -2)\n",
    "        *              np.multiply              Multiplication(e.g, 2 * 3 = 6)\n",
    "        /              np.divide                Division(e.g, 3 / 2 = 1.5)\n",
    "        //             np.floor_divide          Floor division(e.g, 3 // 2 = 1)\n",
    "        **             np.power                 Exponentiation(e.g, 2 ** 3 = 8)\n",
    "        %              np.mod                   Modulus/remaninder (e.g, 9 % 4 = 1)"
   ]
  },
  {
   "cell_type": "markdown",
   "metadata": {},
   "source": [
    "# Absolute value"
   ]
  },
  {
   "cell_type": "markdown",
   "metadata": {},
   "source": [
    "Just as NumPy understands Python`s built-in arithmetic operators, it also understands Python`s \n",
    "built-in absolute value function:"
   ]
  },
  {
   "cell_type": "code",
   "execution_count": 9,
   "metadata": {},
   "outputs": [
    {
     "data": {
      "text/plain": [
       "array([2, 1, 0, 1, 2])"
      ]
     },
     "execution_count": 9,
     "metadata": {},
     "output_type": "execute_result"
    }
   ],
   "source": [
    "x = np.array([-2, -1, 0, 1, 2])\n",
    "abs(x)"
   ]
  },
  {
   "cell_type": "markdown",
   "metadata": {},
   "source": [
    "    The corresponding NumPy ufunc is np.absolute, which is also avalable under the alias\n",
    "    np.abs:"
   ]
  },
  {
   "cell_type": "code",
   "execution_count": 12,
   "metadata": {},
   "outputs": [
    {
     "data": {
      "text/plain": [
       "array([2, 1, 0, 1, 2])"
      ]
     },
     "execution_count": 12,
     "metadata": {},
     "output_type": "execute_result"
    }
   ],
   "source": [
    "np.absolute(x)"
   ]
  },
  {
   "cell_type": "code",
   "execution_count": 15,
   "metadata": {},
   "outputs": [
    {
     "data": {
      "text/plain": [
       "array([2, 1, 0, 1, 2])"
      ]
     },
     "execution_count": 15,
     "metadata": {},
     "output_type": "execute_result"
    }
   ],
   "source": [
    "np.abs(x)"
   ]
  },
  {
   "cell_type": "markdown",
   "metadata": {},
   "source": [
    "This ufunc can also complex data, in which the absolute value returns the magnitude:"
   ]
  },
  {
   "cell_type": "code",
   "execution_count": 17,
   "metadata": {},
   "outputs": [
    {
     "data": {
      "text/plain": [
       "array([5., 5., 2., 1.])"
      ]
     },
     "execution_count": 17,
     "metadata": {},
     "output_type": "execute_result"
    }
   ],
   "source": [
    "x = np.array([3 - 4j, 4 - 3j, 2 + 0j, 0 + 1j])\n",
    "np.abs(x)"
   ]
  },
  {
   "cell_type": "markdown",
   "metadata": {},
   "source": [
    "# Trigonometric functions"
   ]
  },
  {
   "cell_type": "markdown",
   "metadata": {},
   "source": [
    "NumPy provides a large number of useful ufuncs, and some of the most useful for the data\n",
    "scientist are the trigonomentric functions. We`ll sart by defining an array of angles."
   ]
  },
  {
   "cell_type": "code",
   "execution_count": 19,
   "metadata": {},
   "outputs": [],
   "source": [
    "theta = np.linspace(0, np.pi, 3)"
   ]
  },
  {
   "cell_type": "code",
   "execution_count": null,
   "metadata": {},
   "outputs": [],
   "source": [
    "Now we can compute some trigonometric functions on these values:"
   ]
  },
  {
   "cell_type": "code",
   "execution_count": 20,
   "metadata": {},
   "outputs": [
    {
     "name": "stdout",
     "output_type": "stream",
     "text": [
      "theta           = [0.         1.57079633 3.14159265]\n",
      "sin(theta)   = [0.0000000e+00 1.0000000e+00 1.2246468e-16]\n",
      "cos(theta)   = [ 1.000000e+00  6.123234e-17 -1.000000e+00]\n",
      "tan(theta)   = [ 0.00000000e+00  1.63312394e+16 -1.22464680e-16]\n"
     ]
    }
   ],
   "source": [
    "print(\"theta           =\", theta)\n",
    "print(\"sin(theta)   =\", np.sin(theta))\n",
    "print(\"cos(theta)   =\", np.cos(theta))\n",
    "print(\"tan(theta)   =\", np.tan(theta))"
   ]
  },
  {
   "cell_type": "code",
   "execution_count": null,
   "metadata": {},
   "outputs": [],
   "source": [
    "The values are computed to within machine precision, which is why values that should be \n",
    "zero do not always hit exactly zero.Inverse trigonomentric functions are also available."
   ]
  },
  {
   "cell_type": "code",
   "execution_count": 21,
   "metadata": {},
   "outputs": [
    {
     "name": "stdout",
     "output_type": "stream",
     "text": [
      "x                  = [-1, 0, 1]\n",
      "arcsin(x)  = [-1.57079633  0.          1.57079633]\n",
      "arccos(x)  = [3.14159265 1.57079633 0.        ]\n",
      "arctan(x)  = [-0.78539816  0.          0.78539816]\n"
     ]
    }
   ],
   "source": [
    "x = [-1, 0, 1]\n",
    "print(\"x                  =\", x)\n",
    "print(\"arcsin(x)  =\",       np.arcsin(x))\n",
    "print(\"arccos(x)  =\",       np.arccos(x))\n",
    "print(\"arctan(x)  =\",       np.arctan(x))"
   ]
  },
  {
   "cell_type": "markdown",
   "metadata": {},
   "source": [
    "# Exponents and logarithms"
   ]
  },
  {
   "cell_type": "markdown",
   "metadata": {},
   "source": [
    "Another common type of operation available in NumPy ufunc are the exponentials:"
   ]
  },
  {
   "cell_type": "code",
   "execution_count": 22,
   "metadata": {},
   "outputs": [
    {
     "name": "stdout",
     "output_type": "stream",
     "text": [
      "x       = [1, 2, 3]\n",
      "e^x     = [ 2.71828183  7.3890561  20.08553692]\n",
      "2^x     = [2. 4. 8.]\n",
      "3^x     = [ 3  9 27]\n"
     ]
    }
   ],
   "source": [
    "x = [1, 2, 3]\n",
    "print(\"x       =\", x)\n",
    "print(\"e^x     =\", np.exp(x))\n",
    "print(\"2^x     =\", np.exp2(x))\n",
    "print(\"3^x     =\", np.power(3, x))"
   ]
  },
  {
   "cell_type": "code",
   "execution_count": null,
   "metadata": {},
   "outputs": [],
   "source": [
    "The inverse of the exponentials, the logarithms, are also available. The basic np.log\n",
    "gives the natural logarithm; If you prefer to compute the base-2 logarithm or the base-10\n",
    "logrithm, these are available as well:"
   ]
  },
  {
   "cell_type": "code",
   "execution_count": 23,
   "metadata": {},
   "outputs": [
    {
     "name": "stdout",
     "output_type": "stream",
     "text": [
      "x         = [1, 2, 4, 10]\n",
      "ln(x)     = [0.         0.69314718 1.38629436 2.30258509]\n",
      "log2(x)   = [0.         1.         2.         3.32192809]\n",
      "log10(x)  = [0.         0.30103    0.60205999 1.        ]\n"
     ]
    }
   ],
   "source": [
    "x = [1, 2, 4, 10]\n",
    "print(\"x         =\", x)\n",
    "print(\"ln(x)     =\", np.log(x))\n",
    "print(\"log2(x)   =\", np.log2(x))\n",
    "print(\"log10(x)  =\", np.log10(x))"
   ]
  },
  {
   "cell_type": "code",
   "execution_count": null,
   "metadata": {},
   "outputs": [],
   "source": [
    "There are also some specialized version that are useful for maintaining precision with very\n",
    "small input:"
   ]
  },
  {
   "cell_type": "code",
   "execution_count": 26,
   "metadata": {},
   "outputs": [
    {
     "name": "stdout",
     "output_type": "stream",
     "text": [
      "exp(x) - 1 = [0.         0.0010005  0.01005017 0.10517092]\n",
      "log(1 + x) = [0.         0.0009995  0.00995033 0.09531018]\n"
     ]
    }
   ],
   "source": [
    "x = [0, 0.001, 0.01, 0.1]\n",
    "print(\"exp(x) - 1 =\", np.expm1(x))\n",
    "print(\"log(1 + x) =\", np.log1p(x))"
   ]
  },
  {
   "cell_type": "code",
   "execution_count": null,
   "metadata": {},
   "outputs": [],
   "source": [
    " When 'x' is very small, these functions give more precise values than if the raw np.log or\n",
    "    np.exp were to be used."
   ]
  },
  {
   "cell_type": "markdown",
   "metadata": {},
   "source": [
    "# Specialized ufuncs"
   ]
  },
  {
   "cell_type": "markdown",
   "metadata": {},
   "source": [
    "NumPy has many more ufuncs available, including hyperbolic trig functions, bitwise arithmetic, \n",
    "comparison operators, conversions from radians to degrees, rounding and remainders, and much\n",
    "more. A look through the NumPy documentation reveals a lot of interesting functionality.\n",
    "\n",
    "Another excellent source for more specialized and obscure ufuncs is the submodule\n",
    "'scipy.special'.If you want to compute some obscure mathematical function on your data, \n",
    "chances are it is implemented in 'scipy.special'.There are far too many functions to list\n",
    "them all, but the following snippet shows a couple that might come up in a statistics context:"
   ]
  },
  {
   "cell_type": "code",
   "execution_count": 34,
   "metadata": {},
   "outputs": [],
   "source": [
    "from scipy import special"
   ]
  },
  {
   "cell_type": "code",
   "execution_count": 37,
   "metadata": {},
   "outputs": [
    {
     "name": "stdout",
     "output_type": "stream",
     "text": [
      "gamma(x)       = [1.0000e+00 2.4000e+01 3.6288e+05]\n",
      "ln|gamma(x)|   = [ 0.          3.17805383 12.80182748]\n",
      "beta(x, 2)     = [0.5        0.03333333 0.00909091]\n"
     ]
    }
   ],
   "source": [
    "# Gamma functions (gengralized factorials) and related functions\n",
    "x = [1, 5, 10]\n",
    "print(\"gamma(x)       =\", special.gamma(x))\n",
    "print(\"ln|gamma(x)|   =\", special.gammaln(x))\n",
    "print(\"beta(x, 2)     =\", special.beta(x, 2))"
   ]
  },
  {
   "cell_type": "code",
   "execution_count": 38,
   "metadata": {},
   "outputs": [
    {
     "name": "stdout",
     "output_type": "stream",
     "text": [
      "erf(x)    = [0.         0.32862676 0.67780119 0.84270079]\n",
      "erfc(x)   = [1.         0.67137324 0.32219881 0.15729921]\n",
      "drfinv(x) = [0.         0.27246271 0.73286908        inf]\n"
     ]
    }
   ],
   "source": [
    "# Error function (integral of Gaussian)\n",
    "# its complement, and its inverse\n",
    "x = np.array([0, 0.3, 0.7, 1.0])\n",
    "print(\"erf(x)    =\", special.erf(x))\n",
    "print(\"erfc(x)   =\", special.erfc(x))\n",
    "print(\"drfinv(x) =\", special.erfinv(x))"
   ]
  },
  {
   "cell_type": "markdown",
   "metadata": {},
   "source": [
    "There are many, many more ufuncs available in both NumPy and scipy.special. Because the \n",
    "documentation of these packages is available online, a web search along the lines of \n",
    "\"gamma funcition python\" will generally find the relevant information."
   ]
  },
  {
   "cell_type": "markdown",
   "metadata": {},
   "source": [
    "# Advanced Ufunc Features"
   ]
  },
  {
   "cell_type": "markdown",
   "metadata": {},
   "source": [
    "Many NumPy users make use of ufunc without ever learning their full set of features.We`ll\n",
    "outline a few specialized features of ufuncs hrere."
   ]
  },
  {
   "cell_type": "markdown",
   "metadata": {},
   "source": [
    "### Specifying output\n",
    "For large calculations, it is sometimes useful to be able to specify the array where result\n",
    "of the calculation will be stored.Rather than creating a temporay array, this can be used\n",
    "to write computation results directly to the memory location where you`d like them to be.For\n",
    "all ufuncs, this can be done using the out argument of the function:\n"
   ]
  },
  {
   "cell_type": "code",
   "execution_count": 50,
   "metadata": {},
   "outputs": [
    {
     "name": "stdout",
     "output_type": "stream",
     "text": [
      "[ 0. 10. 20. 30. 40.]\n"
     ]
    }
   ],
   "source": [
    "x = np.arange(5)\n",
    "y = np.empty(5)\n",
    "np.multiply(x, 10, out=y)\n",
    "print(y)"
   ]
  },
  {
   "cell_type": "markdown",
   "metadata": {},
   "source": [
    "This can even be used with array views. For example, we can write the results of a \n",
    "computation to every other element of a specified array:"
   ]
  },
  {
   "cell_type": "code",
   "execution_count": 51,
   "metadata": {},
   "outputs": [
    {
     "name": "stdout",
     "output_type": "stream",
     "text": [
      "[ 1.  0.  2.  0.  4.  0.  8.  0. 16.  0.]\n"
     ]
    }
   ],
   "source": [
    "y = np.zeros(10)\n",
    "np.power(2, x, out=y[::2])\n",
    "print(y)"
   ]
  },
  {
   "cell_type": "markdown",
   "metadata": {},
   "source": [
    "If we had istead written'y[::2] = 2 ** x', this would have resulted in the creation of a\n",
    "temporary array to hold the results of 2 ** x, followed by a second operation copying \n",
    "those values into the y array. This doesn`t make much of a difference for such a small\n",
    "computation, but for very large arrays the memory savings from careful use of the out\n",
    "argument can be significant."
   ]
  },
  {
   "cell_type": "markdown",
   "metadata": {},
   "source": [
    "# Aggregates"
   ]
  },
  {
   "cell_type": "markdown",
   "metadata": {},
   "source": [
    "For binary ufuncs, there are some interesting aggregates that can be compuated directily\n",
    "from the object.For example, if we`d to reduce an array with a particular operation, we can\n",
    "use the reduce method of any ufunc. \n",
    "\n",
    "For example, calling reduce on the add ufunc returns the sum of all elements in the array:"
   ]
  },
  {
   "cell_type": "code",
   "execution_count": 52,
   "metadata": {},
   "outputs": [
    {
     "data": {
      "text/plain": [
       "15"
      ]
     },
     "execution_count": 52,
     "metadata": {},
     "output_type": "execute_result"
    }
   ],
   "source": [
    "x = np.arange(1, 6)\n",
    "np.add.reduce(x)"
   ]
  },
  {
   "cell_type": "markdown",
   "metadata": {},
   "source": [
    "Similarly, calling reduce on the multiply ufunc results in the product of all array elements:"
   ]
  },
  {
   "cell_type": "code",
   "execution_count": 53,
   "metadata": {},
   "outputs": [
    {
     "data": {
      "text/plain": [
       "120"
      ]
     },
     "execution_count": 53,
     "metadata": {},
     "output_type": "execute_result"
    }
   ],
   "source": [
    "np.multiply.reduce(x)"
   ]
  },
  {
   "cell_type": "markdown",
   "metadata": {},
   "source": [
    "If we`d like to store all the intermediate results of the computation, we can instead use accumulate:"
   ]
  },
  {
   "cell_type": "code",
   "execution_count": 54,
   "metadata": {},
   "outputs": [
    {
     "data": {
      "text/plain": [
       "array([ 1,  3,  6, 10, 15], dtype=int32)"
      ]
     },
     "execution_count": 54,
     "metadata": {},
     "output_type": "execute_result"
    }
   ],
   "source": [
    "np.add.accumulate(x)"
   ]
  },
  {
   "cell_type": "code",
   "execution_count": 55,
   "metadata": {},
   "outputs": [
    {
     "data": {
      "text/plain": [
       "array([  1,   2,   6,  24, 120], dtype=int32)"
      ]
     },
     "execution_count": 55,
     "metadata": {},
     "output_type": "execute_result"
    }
   ],
   "source": [
    "np.multiply.accumulate(x)"
   ]
  },
  {
   "cell_type": "markdown",
   "metadata": {},
   "source": [
    "Note that for these particular cases, there are dedicated NumPy functions to compute the\n",
    "results(np.sum, np.prod, np.cumsum, np.cumprod), which we`ll explore in Aggregations: \n",
    "Min, Max, and Everything In Between.    \n",
    "    "
   ]
  },
  {
   "cell_type": "markdown",
   "metadata": {},
   "source": [
    "# Out products"
   ]
  },
  {
   "cell_type": "markdown",
   "metadata": {},
   "source": [
    "Finally, any ufunc can compute the output of all pairs of two different inputs using the \n",
    "outer method.This allows you, in one line, to do things like create a multiplication table:"
   ]
  },
  {
   "cell_type": "code",
   "execution_count": 48,
   "metadata": {},
   "outputs": [
    {
     "data": {
      "text/plain": [
       "array([[ 1,  2,  3,  4,  5],\n",
       "       [ 2,  4,  6,  8, 10],\n",
       "       [ 3,  6,  9, 12, 15],\n",
       "       [ 4,  8, 12, 16, 20],\n",
       "       [ 5, 10, 15, 20, 25]])"
      ]
     },
     "execution_count": 48,
     "metadata": {},
     "output_type": "execute_result"
    }
   ],
   "source": [
    "x = np.arange(1, 6)\n",
    "np.multiply.outer(x, x)"
   ]
  },
  {
   "cell_type": "markdown",
   "metadata": {},
   "source": [
    "The ufunc.at and ufunc.reduceat methods, which we`ll explore in Fancy Indexing, are very\n",
    "helpful as well.\n",
    "\n",
    "Another extremely useful feature of ufuncs is the ablility to operate between arrays of different \n",
    "sizes and shapes, a set of operations known as broadcasting. This subject is important\n",
    "enough that we will devote a whole section to ti (see Computation on Arrays:Broadcasting.)"
   ]
  },
  {
   "cell_type": "code",
   "execution_count": null,
   "metadata": {},
   "outputs": [],
   "source": []
  },
  {
   "cell_type": "code",
   "execution_count": null,
   "metadata": {},
   "outputs": [],
   "source": []
  },
  {
   "cell_type": "code",
   "execution_count": null,
   "metadata": {},
   "outputs": [],
   "source": []
  },
  {
   "cell_type": "code",
   "execution_count": null,
   "metadata": {},
   "outputs": [],
   "source": []
  },
  {
   "cell_type": "code",
   "execution_count": null,
   "metadata": {},
   "outputs": [],
   "source": []
  },
  {
   "cell_type": "code",
   "execution_count": null,
   "metadata": {},
   "outputs": [],
   "source": []
  },
  {
   "cell_type": "code",
   "execution_count": null,
   "metadata": {},
   "outputs": [],
   "source": []
  },
  {
   "cell_type": "code",
   "execution_count": null,
   "metadata": {},
   "outputs": [],
   "source": []
  },
  {
   "cell_type": "code",
   "execution_count": null,
   "metadata": {},
   "outputs": [],
   "source": []
  },
  {
   "cell_type": "code",
   "execution_count": null,
   "metadata": {},
   "outputs": [],
   "source": []
  },
  {
   "cell_type": "code",
   "execution_count": null,
   "metadata": {},
   "outputs": [],
   "source": []
  },
  {
   "cell_type": "code",
   "execution_count": null,
   "metadata": {},
   "outputs": [],
   "source": []
  },
  {
   "cell_type": "code",
   "execution_count": null,
   "metadata": {},
   "outputs": [],
   "source": []
  },
  {
   "cell_type": "code",
   "execution_count": null,
   "metadata": {},
   "outputs": [],
   "source": []
  },
  {
   "cell_type": "code",
   "execution_count": null,
   "metadata": {},
   "outputs": [],
   "source": []
  },
  {
   "cell_type": "code",
   "execution_count": null,
   "metadata": {},
   "outputs": [],
   "source": []
  },
  {
   "cell_type": "code",
   "execution_count": null,
   "metadata": {},
   "outputs": [],
   "source": []
  },
  {
   "cell_type": "code",
   "execution_count": null,
   "metadata": {},
   "outputs": [],
   "source": []
  }
 ],
 "metadata": {
  "kernelspec": {
   "display_name": "Python 3",
   "language": "python",
   "name": "python3"
  },
  "language_info": {
   "codemirror_mode": {
    "name": "ipython",
    "version": 3
   },
   "file_extension": ".py",
   "mimetype": "text/x-python",
   "name": "python",
   "nbconvert_exporter": "python",
   "pygments_lexer": "ipython3",
   "version": "3.7.1"
  }
 },
 "nbformat": 4,
 "nbformat_minor": 2
}
