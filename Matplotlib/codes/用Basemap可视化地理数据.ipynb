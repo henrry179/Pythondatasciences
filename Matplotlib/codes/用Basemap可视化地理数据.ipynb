{
 "cells": [
  {
   "cell_type": "markdown",
   "metadata": {},
   "source": [
    "# 用basemap可视化地理数据"
   ]
  },
  {
   "cell_type": "code",
   "execution_count": null,
   "metadata": {},
   "outputs": [],
   "source": [
    "%matplotlib inline\n",
    "import numpy as np\n",
    "import matplotlib.pyplot as plt\n",
    "from mpl_toolkits.basemap import Basemap\n",
    "\n",
    "plt.figure(figsize=(8, 8))\n",
    "m = Basemap(projection='ortho', \n",
    "            resolution=None, \n",
    "            lat_0=50, \n",
    "            lon_0=100)\n",
    "\n",
    "m.bluemarble(scale=0.5)\n",
    "#plt.savefig(r\"D:\\Python-Excel\\Data-analysis\\Python-Data-Science\\Matplotlib-实现各种数据可视化\\images-basemap\\basemap1.jpg\")"
   ]
  },
  {
   "cell_type": "markdown",
   "metadata": {},
   "source": [
    "这里显示的地球并不是一个静止的图形。它是一个用球面坐标系构建的、功能齐全的Matplotlib坐标轴，可以很轻易地在地图上增添数据！例如，我们可以\n",
    "将地图投影放大到北美洲，然后标出西雅图的位置，用ETOPO地图（etopo image, 显示陆地与海底的地形特征）作为背景。示例代码如下："
   ]
  },
  {
   "cell_type": "code",
   "execution_count": null,
   "metadata": {},
   "outputs": [],
   "source": [
    "fig = plt.figure(figsize = (8, 8))\n",
    "m = Basemap(projection = 'lcc', \n",
    "            resolution = None, \n",
    "            width = 8E6, \n",
    "            height = 8E6, \n",
    "            lat_0 = 45, \n",
    "            lon_0 = -100,)\n",
    "\n",
    "m.etopo(scale = 0.5, alpha = 0.5)\n",
    "\n",
    "# 在地图上添加标签\n",
    "# 地图上的（经度，维度）对应图上的（x, y）坐标\n",
    "x, y = m(-122.3, 47.6)\n",
    "plt.plot(x, \n",
    "         y, \n",
    "         'ok', \n",
    "         markersize = 5)\n",
    "\n",
    "plt.text(x, \n",
    "         y, \n",
    "         'Seattle', \n",
    "         fontsize=12)\n",
    "\n",
    "plt.savefig(r\"D:\\Python-Excel\\Data-analysis\\Python-Data-Science\\Matplotlib-实现各种数据可视化\\images-basemap\\etopo.jpg\")"
   ]
  },
  {
   "cell_type": "markdown",
   "metadata": {},
   "source": [
    "## 地图投影\n",
    "当你想使用地图时，首先要做的就是确定地图的投影类型。像地图这样的球体，可以通过球面透视法将三维球面投影成一个二维平面，不会造成变形，\n",
    "也不会破坏其连续性。根据地图投影类型的不同途径，有一些地图特征（例如方向、面积、距离、形状或其他因素）。\n",
    "Basemap程序包里面实现了几十种投影类型，所有投影都有一个简便格式码。下面对一些常用的投影类型进行简单的演示。"
   ]
  },
  {
   "cell_type": "code",
   "execution_count": 9,
   "metadata": {},
   "outputs": [],
   "source": [
    "# 首先定义一个可以画带经纬线地图的简便方法\n",
    "from itertools import chain\n",
    "\n",
    "def draw_map(m, scale=0.2):\n",
    "    # 画地貌晕渲图\n",
    "    m.shadedrelief(scale=scale)\n",
    "    \n",
    "    # 用字典表示经纬度\n",
    "    lats = m.drawparallels(np.linspace(-90, \n",
    "                                       90, \n",
    "                                       13))\n",
    "    \n",
    "    lons = m.drawmeridians(np.linspace(-180, \n",
    "                                       180, \n",
    "                                       13))\n",
    "    \n",
    "    # 字典的键是plt.Line2D示例\n",
    "    lat_lines = chain(*(tup[1][0] for tup in lats.items()))\n",
    "    lon_lines = chain(*(tup[1][0] for tup in lons.items()))\n",
    "    all_lines = chain(lat_lines, lon_lines)\n",
    "    \n",
    "    # 用循环将所有线设置成需要的样式\n",
    "    for line in all_lines:\n",
    "        line.set(linestyle = '-', \n",
    "                 alpha=0.3, \n",
    "                 color='w')"
   ]
  },
  {
   "cell_type": "markdown",
   "metadata": {},
   "source": [
    "### 圆柱投影\n",
    "圆柱投影是最简单的地图投影类型，维度与经度分别映射成水平线与竖直线。采用这种投影类型，赤道区域的显示效果非常好，但是南北极附近的区域就会\n",
    "严重变形。由于纬度线的间距会因圆柱投影的不同而不同，所以就有了不同的投影属性和南北极附近不同的变形程度。除了不同维度在子午线方向的间距\n",
    "保持不变等距圆柱投影，另外两种圆柱投影是墨卡托投影和圆柱等积投影。示例代码如下："
   ]
  },
  {
   "cell_type": "code",
   "execution_count": null,
   "metadata": {},
   "outputs": [],
   "source": [
    "fig = plt.figure(figsize=(8, 6), \n",
    "                 edgecolor='w')\n",
    "\n",
    "m = Basemap(projection='cyl', \n",
    "            resolution=None, \n",
    "            llcrnrlat=-90, \n",
    "            urcrnrlat=90, \n",
    "            llcrnrlon=-180, \n",
    "            urcrnrlon=180, )\n",
    "draw_map(m)\n",
    "plt.savefig(r\"D:\\Python-Excel\\Data-analysis\\Python-Data-Science\\Matplotlib-实现各种数据可视化\\images-basemap\\llcr.jpg\")"
   ]
  },
  {
   "cell_type": "markdown",
   "metadata": {},
   "source": [
    "### 伪圆柱投影\n",
    "伪圆柱投影的经线不再必须是竖直的，这样可以使南北极附近的区域更加真实。它所有的经线都是椭圆弧线，这么做是为了保留地图原貌——虽然南北极附近\n",
    "的区域还有一些变形，但是通过一些区域小图可以反映真实情况。其他伪圆柱投影类型有正弦投影和罗宾森投影。示例代码如下："
   ]
  },
  {
   "cell_type": "code",
   "execution_count": null,
   "metadata": {},
   "outputs": [],
   "source": [
    "# 摩尔威德投影\n",
    "fig = plt.figure(figsize=(8, 6), \n",
    "                 edgecolor='w')\n",
    "\n",
    "m = Basemap(projection='moll', \n",
    "            resolution=None, \n",
    "            lat_0=0, lon_0=0)\n",
    "draw_map(m)\n",
    "plt.savefig(r\"D:\\Python-Excel\\Data-analysis\\Python-Data-Science\\Matplotlib-实现各种数据可视化\\images-basemap\\Mollweide.jpg\")"
   ]
  },
  {
   "cell_type": "markdown",
   "metadata": {},
   "source": [
    "Basemap提供了两个额外参数，用来表示地图中心的维度（lat_0）和经度（lon_0）。"
   ]
  },
  {
   "cell_type": "markdown",
   "metadata": {},
   "source": [
    "### 透视投影\n",
    "透视投影是从某一个透视点对地球进行透视获得大的投影，就好像你站在太空中某一点给地球照相一样。这种投影一次只显示半个地球。其他的透视投影\n",
    "类型还有球心投影和球极平面投影。这些投影经常用于显示地图的较小面积区域。下面是一个正射投影示例，示例代码如下："
   ]
  },
  {
   "cell_type": "code",
   "execution_count": null,
   "metadata": {},
   "outputs": [],
   "source": [
    "fig = plt.figure(figsize=(8, 8))\n",
    "\n",
    "m = Basemap(projection='ortho', \n",
    "            resolution=None, \n",
    "            lat_0=50, \n",
    "            lon_0=0)\n",
    "\n",
    "draw_map(m)\n",
    "plt.savefig(r\"D:\\Python-Excel\\Data-analysis\\Python-Data-Science\\Matplotlib-实现各种数据可视化\\images-basemap\\ortho.jpg\")"
   ]
  },
  {
   "cell_type": "markdown",
   "metadata": {},
   "source": [
    "### 圆锥投影\n",
    "圆锥投影是先将地图投影成一个圆锥体，然后再将其展开。这样做虽然可以获得非常好的局部效果，但是远离圆锥顶点的区域可能会严重变形。\n",
    "一个典型就是兰勃特等角圆锥投影，也就是我们见到的北美洲地图。其他常用的圆锥投影还有等距圆锥投影和阿尔伯斯等积圆锥投影。示例代码如下："
   ]
  },
  {
   "cell_type": "code",
   "execution_count": null,
   "metadata": {},
   "outputs": [],
   "source": [
    "fig = plt.figure(figsize=(8, 8))\n",
    "\n",
    "m = Basemap(projection='lcc', \n",
    "            resolution=None, \n",
    "            lon_0=0, \n",
    "            lat_0=50, \n",
    "            lat_1=45, \n",
    "            lat_2=55, \n",
    "            width=1.6E7, \n",
    "            height=1.2E7)\n",
    "\n",
    "draw_map(m)\n",
    "plt.savefig(r\"D:\\Python-Excel\\Data-analysis\\Python-Data-Science\\Matplotlib-实现各种数据可视化\\images-basemap\\conicp.jpg\")"
   ]
  },
  {
   "cell_type": "markdown",
   "metadata": {},
   "source": [
    "### 其他投影类型\n",
    "如果需要做更多地图可视化，推荐可以在Basemap程序包（https://matplotlib.org/basemap/users/mapsetup.html）"
   ]
  },
  {
   "cell_type": "code",
   "execution_count": null,
   "metadata": {},
   "outputs": [],
   "source": []
  },
  {
   "cell_type": "code",
   "execution_count": null,
   "metadata": {},
   "outputs": [],
   "source": []
  },
  {
   "cell_type": "code",
   "execution_count": null,
   "metadata": {},
   "outputs": [],
   "source": []
  },
  {
   "cell_type": "code",
   "execution_count": null,
   "metadata": {},
   "outputs": [],
   "source": []
  },
  {
   "cell_type": "code",
   "execution_count": null,
   "metadata": {},
   "outputs": [],
   "source": []
  },
  {
   "cell_type": "code",
   "execution_count": null,
   "metadata": {},
   "outputs": [],
   "source": []
  },
  {
   "cell_type": "code",
   "execution_count": null,
   "metadata": {},
   "outputs": [],
   "source": []
  },
  {
   "cell_type": "code",
   "execution_count": null,
   "metadata": {},
   "outputs": [],
   "source": []
  },
  {
   "cell_type": "code",
   "execution_count": null,
   "metadata": {},
   "outputs": [],
   "source": []
  },
  {
   "cell_type": "code",
   "execution_count": null,
   "metadata": {},
   "outputs": [],
   "source": []
  },
  {
   "cell_type": "code",
   "execution_count": null,
   "metadata": {},
   "outputs": [],
   "source": []
  },
  {
   "cell_type": "code",
   "execution_count": null,
   "metadata": {},
   "outputs": [],
   "source": []
  },
  {
   "cell_type": "code",
   "execution_count": null,
   "metadata": {},
   "outputs": [],
   "source": []
  },
  {
   "cell_type": "code",
   "execution_count": null,
   "metadata": {},
   "outputs": [],
   "source": []
  },
  {
   "cell_type": "code",
   "execution_count": null,
   "metadata": {},
   "outputs": [],
   "source": []
  },
  {
   "cell_type": "code",
   "execution_count": null,
   "metadata": {},
   "outputs": [],
   "source": []
  },
  {
   "cell_type": "code",
   "execution_count": null,
   "metadata": {},
   "outputs": [],
   "source": []
  }
 ],
 "metadata": {
  "kernelspec": {
   "display_name": "Python 3",
   "language": "python",
   "name": "python3"
  },
  "language_info": {
   "codemirror_mode": {
    "name": "ipython",
    "version": 3
   },
   "file_extension": ".py",
   "mimetype": "text/x-python",
   "name": "python",
   "nbconvert_exporter": "python",
   "pygments_lexer": "ipython3",
   "version": "3.7.5"
  },
  "toc": {
   "base_numbering": 1,
   "nav_menu": {},
   "number_sections": true,
   "sideBar": true,
   "skip_h1_title": false,
   "title_cell": "Table of Contents",
   "title_sidebar": "Contents",
   "toc_cell": false,
   "toc_position": {},
   "toc_section_display": true,
   "toc_window_display": false
  }
 },
 "nbformat": 4,
 "nbformat_minor": 2
}
