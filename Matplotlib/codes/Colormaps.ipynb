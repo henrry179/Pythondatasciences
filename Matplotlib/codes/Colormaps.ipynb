{
 "cells": [
  {
   "cell_type": "code",
   "execution_count": 9,
   "metadata": {},
   "outputs": [
    {
     "name": "stdout",
     "output_type": "stream",
     "text": [
      "<matplotlib.colors.ListedColormap object at 0x000001DA9502BE88>\n"
     ]
    },
    {
     "data": {
      "text/plain": [
       "<Figure size 432x288 with 0 Axes>"
      ]
     },
     "metadata": {},
     "output_type": "display_data"
    }
   ],
   "source": [
    "# 导入ListedColormap, LinearSegmentedColormap\n",
    "import numpy as np\n",
    "import matplotlib.pyplot as plt\n",
    "from matplotlib import cm\n",
    "from matplotlib.colors import ListedColormap, LinearSegmentedColormap\n",
    "%matplotlib inline\n",
    "\n",
    "viridis = cm.get_cmap('viridis', 12)\n",
    "print(viridis)\n",
    "plt.show()\n",
    "plt.savefig(r\"D:\\Python-Excel\\Data-analysis\\Python-Data-Science\\Objects\\Matplotlib\\images\\viridis.jpg\")"
   ]
  },
  {
   "cell_type": "code",
   "execution_count": 10,
   "metadata": {},
   "outputs": [
    {
     "name": "stdout",
     "output_type": "stream",
     "text": [
      "(0.119512, 0.607464, 0.540218, 1.0)\n"
     ]
    }
   ],
   "source": [
    "print(viridis(0.56))"
   ]
  },
  {
   "cell_type": "code",
   "execution_count": 11,
   "metadata": {},
   "outputs": [
    {
     "name": "stdout",
     "output_type": "stream",
     "text": [
      "viridis.colors [[0.267004 0.004874 0.329415 1.      ]\n",
      " [0.283072 0.130895 0.449241 1.      ]\n",
      " [0.262138 0.242286 0.520837 1.      ]\n",
      " [0.220057 0.343307 0.549413 1.      ]\n",
      " [0.177423 0.437527 0.557565 1.      ]\n",
      " [0.143343 0.522773 0.556295 1.      ]\n",
      " [0.119512 0.607464 0.540218 1.      ]\n",
      " [0.166383 0.690856 0.496502 1.      ]\n",
      " [0.319809 0.770914 0.411152 1.      ]\n",
      " [0.525776 0.833491 0.288127 1.      ]\n",
      " [0.762373 0.876424 0.137064 1.      ]\n",
      " [0.993248 0.906157 0.143936 1.      ]]\n",
      "viridis(range(12)) [[0.267004 0.004874 0.329415 1.      ]\n",
      " [0.283072 0.130895 0.449241 1.      ]\n",
      " [0.262138 0.242286 0.520837 1.      ]\n",
      " [0.220057 0.343307 0.549413 1.      ]\n",
      " [0.177423 0.437527 0.557565 1.      ]\n",
      " [0.143343 0.522773 0.556295 1.      ]\n",
      " [0.119512 0.607464 0.540218 1.      ]\n",
      " [0.166383 0.690856 0.496502 1.      ]\n",
      " [0.319809 0.770914 0.411152 1.      ]\n",
      " [0.525776 0.833491 0.288127 1.      ]\n",
      " [0.762373 0.876424 0.137064 1.      ]\n",
      " [0.993248 0.906157 0.143936 1.      ]]\n",
      "viridis(np.linspace(0, 1, 12)) [[0.267004 0.004874 0.329415 1.      ]\n",
      " [0.283072 0.130895 0.449241 1.      ]\n",
      " [0.262138 0.242286 0.520837 1.      ]\n",
      " [0.220057 0.343307 0.549413 1.      ]\n",
      " [0.177423 0.437527 0.557565 1.      ]\n",
      " [0.143343 0.522773 0.556295 1.      ]\n",
      " [0.119512 0.607464 0.540218 1.      ]\n",
      " [0.166383 0.690856 0.496502 1.      ]\n",
      " [0.319809 0.770914 0.411152 1.      ]\n",
      " [0.525776 0.833491 0.288127 1.      ]\n",
      " [0.762373 0.876424 0.137064 1.      ]\n",
      " [0.993248 0.906157 0.143936 1.      ]]\n"
     ]
    }
   ],
   "source": [
    "print('viridis.colors', \n",
    "      viridis.colors)\n",
    "\n",
    "print('viridis(range(12))', \n",
    "      viridis(range(12)))\n",
    "\n",
    "print('viridis(np.linspace(0, 1, 12))', \n",
    "      viridis(np.linspace(0, 1, 12)))"
   ]
  },
  {
   "cell_type": "code",
   "execution_count": 12,
   "metadata": {},
   "outputs": [
    {
     "name": "stdout",
     "output_type": "stream",
     "text": [
      "viridis(np.linspace(0, 1, 15)) [[0.267004 0.004874 0.329415 1.      ]\n",
      " [0.267004 0.004874 0.329415 1.      ]\n",
      " [0.283072 0.130895 0.449241 1.      ]\n",
      " [0.262138 0.242286 0.520837 1.      ]\n",
      " [0.220057 0.343307 0.549413 1.      ]\n",
      " [0.177423 0.437527 0.557565 1.      ]\n",
      " [0.143343 0.522773 0.556295 1.      ]\n",
      " [0.119512 0.607464 0.540218 1.      ]\n",
      " [0.119512 0.607464 0.540218 1.      ]\n",
      " [0.166383 0.690856 0.496502 1.      ]\n",
      " [0.319809 0.770914 0.411152 1.      ]\n",
      " [0.525776 0.833491 0.288127 1.      ]\n",
      " [0.762373 0.876424 0.137064 1.      ]\n",
      " [0.993248 0.906157 0.143936 1.      ]\n",
      " [0.993248 0.906157 0.143936 1.      ]]\n"
     ]
    }
   ],
   "source": [
    "print('viridis(np.linspace(0, 1, 15))', viridis(np.linspace(0, 1, 15)))"
   ]
  },
  {
   "cell_type": "markdown",
   "metadata": {},
   "source": [
    "## Creating listed colormaps\n",
    "This is essential the inverse operation of the above where  we supply a Nx4 numpy array\n",
    "with all values between 0 and 1, to ListedColormap to make a new colormap.This means\n",
    "that any numpy operations that we can do on a Nx4 array make carpentry of new colormaps\n",
    "from existing colormaps quite straight forward.\n",
    "\n",
    "suppose we want to make the first 25 entries of a 256-length \"viridis\" colormap pink for\n",
    "some reason:"
   ]
  },
  {
   "cell_type": "code",
   "execution_count": 13,
   "metadata": {},
   "outputs": [
    {
     "data": {
      "image/png": "[encoded data removed]",
      "text/plain": [
       "<Figure size 432x216 with 4 Axes>"
      ]
     },
     "metadata": {
      "needs_background": "light"
     },
     "output_type": "display_data"
    },
    {
     "data": {
      "text/plain": [
       "<Figure size 432x288 with 0 Axes>"
      ]
     },
     "metadata": {},
     "output_type": "display_data"
    }
   ],
   "source": [
    "%matplotlib inline\n",
    "\n",
    "viridis = cm.get_cmap('viridis', 256)\n",
    "newcolors = viridis(np.linspace(0, 1, 256))\n",
    "pink = np.array([248/256, \n",
    "                 24/256, \n",
    "                 148/256, \n",
    "                 1]\n",
    "               )\n",
    "\n",
    "newcolors[:25, :] = pink\n",
    "newcmp = ListedColormap(newcolors)\n",
    "\n",
    "def plot_examples(cms):\n",
    "    \"\"\"\n",
    "    helper function to plot two colormaps\n",
    "    \"\"\"\n",
    "    np.random.seed(19690801)\n",
    "    data = np.random.randn(30, 30)\n",
    "    \n",
    "    fig, axs = plt.subplots(1, 2, \n",
    "                            figsize=(6, 3), \n",
    "                            constrained_layout = True)\n",
    "    \n",
    "    for [ax, cmap] in zip(axs, cms):\n",
    "        psm = ax.pcolormesh(data, \n",
    "                            cmap=cmap, \n",
    "                            rasterized=True, \n",
    "                            vmin=-4, \n",
    "                            vmax=4)\n",
    "        \n",
    "        fig.colorbar(psm, ax=ax)\n",
    "    \n",
    "    plt.show()\n",
    "    \n",
    "# plot_examples([viridis, newcmp])    \n",
    "plot_examples([viridis, newcmp])\n",
    "plt.savefig(r\"D:\\Python-Excel\\Data-analysis\\Python-Data-Science\\Objects\\Matplotlib\\images\\viridis.jpg\")"
   ]
  },
  {
   "cell_type": "markdown",
   "metadata": {},
   "source": [
    "we can easily reduce the dynamic range of a colormap; here we choose the middle 0.5 of\n",
    "the colormap.However, we need to interpolate from a larger colormap, otherwise the new\n",
    "colormap will have repeated values."
   ]
  },
  {
   "cell_type": "code",
   "execution_count": 14,
   "metadata": {},
   "outputs": [
    {
     "data": {
      "image/png": "[encoded data removed]",
      "text/plain": [
       "<Figure size 432x216 with 4 Axes>"
      ]
     },
     "metadata": {
      "needs_background": "light"
     },
     "output_type": "display_data"
    },
    {
     "data": {
      "text/plain": [
       "<Figure size 432x288 with 0 Axes>"
      ]
     },
     "metadata": {},
     "output_type": "display_data"
    }
   ],
   "source": [
    "%matplotlib inline\n",
    "viridisBig = cm.get_cmap('viridis', 512)\n",
    "newcmp = ListedColormap(viridisBig(np.linspace(0.25, 0.75, 256)))\n",
    "plot_examples([viridis, newcmp])\n",
    "plt.savefig(r\"D:\\Python-Excel\\Data-analysis\\Python-Data-Science\\Objects\\Matplotlib\\images\\viridis1.jpg\")"
   ]
  },
  {
   "cell_type": "markdown",
   "metadata": {},
   "source": [
    "and we can easily concatenate two colormaps:"
   ]
  },
  {
   "cell_type": "code",
   "execution_count": 15,
   "metadata": {},
   "outputs": [
    {
     "data": {
      "image/png": "[encoded data removed]",
      "text/plain": [
       "<Figure size 432x216 with 4 Axes>"
      ]
     },
     "metadata": {
      "needs_background": "light"
     },
     "output_type": "display_data"
    },
    {
     "data": {
      "text/plain": [
       "<Figure size 432x288 with 0 Axes>"
      ]
     },
     "metadata": {},
     "output_type": "display_data"
    }
   ],
   "source": [
    "top = cm.get_cmap('Oranges_r', 128)\n",
    "bottom = cm.get_cmap('Blues', 128)\n",
    "\n",
    "newcolors = np.vstack((top(np.linspace(0, 1, 128)), \n",
    "                       bottom(np.linspace(0, 1, 128))\n",
    "                      ))\n",
    "\n",
    "newcmp = ListedColormap(newcolors, \n",
    "                        name = 'OrangeBlue')\n",
    "\n",
    "plot_examples([viridis, newcmp])\n",
    "\n",
    "plt.savefig(r\"D:\\Python-Excel\\Data-analysis\\Python-Data-Science\\Objects\\Matplotlib\\images\\viridis2.jpg\")"
   ]
  },
  {
   "cell_type": "code",
   "execution_count": 16,
   "metadata": {},
   "outputs": [
    {
     "ename": "SyntaxError",
     "evalue": "invalid syntax (<ipython-input-16-1827a47f04ca>, line 1)",
     "output_type": "error",
     "traceback": [
      "\u001b[1;36m  File \u001b[1;32m\"<ipython-input-16-1827a47f04ca>\"\u001b[1;36m, line \u001b[1;32m1\u001b[0m\n\u001b[1;33m    Of course we need not start from a named colormap, we just need to create the Nx4 array\u001b[0m\n\u001b[1;37m            ^\u001b[0m\n\u001b[1;31mSyntaxError\u001b[0m\u001b[1;31m:\u001b[0m invalid syntax\n"
     ]
    }
   ],
   "source": [
    "Of course we need not start from a named colormap, we just need to create the Nx4 array\n",
    "to pass to ListedColormap.Here we create a brown colormap that goes to white....."
   ]
  },
  {
   "cell_type": "code",
   "execution_count": 17,
   "metadata": {},
   "outputs": [
    {
     "data": {
      "image/png": "[encoded data removed]",
      "text/plain": [
       "<Figure size 432x216 with 4 Axes>"
      ]
     },
     "metadata": {
      "needs_background": "light"
     },
     "output_type": "display_data"
    },
    {
     "data": {
      "text/plain": [
       "<Figure size 432x288 with 0 Axes>"
      ]
     },
     "metadata": {},
     "output_type": "display_data"
    }
   ],
   "source": [
    "N = 256\n",
    "vals = np.ones((N, 4))\n",
    "vals[:, 0] = np.linspace(90/256, 1, N)\n",
    "vals[:, 1] = np.linspace(39/256, 1, N)\n",
    "vals[:, 2] = np.linspace(41/256, 1, N)\n",
    "\n",
    "newcmp = ListedColormap(vals)\n",
    "plot_examples([viridis, newcmp])\n",
    "plt.savefig(r\"D:\\Python-Excel\\Data-analysis\\Python-Data-Science\\Objects\\Matplotlib\\images\\viridis3.jpg\")"
   ]
  },
  {
   "cell_type": "markdown",
   "metadata": {},
   "source": [
    "## Creating linear segmented colormaps\n",
    "The format to specify these colormaps allows discontinuities at the anchor points. Each\n",
    " anchor point is specified as a row in a matrix of the form [x[i] yleft[i] yright[i]], \n",
    "where x[i] is the anchor, and yleft[i] and yright[i] are the values of the color on \n",
    "either side of the anchor point.\n",
    "\n",
    "if there are no discontinuities, then yleft[i]=yright[i]:"
   ]
  },
  {
   "cell_type": "code",
   "execution_count": 21,
   "metadata": {},
   "outputs": [
    {
     "ename": "NameError",
     "evalue": "name 'ax' is not defined",
     "output_type": "error",
     "traceback": [
      "\u001b[1;31m---------------------------------------------------------------------------\u001b[0m",
      "\u001b[1;31mNameError\u001b[0m                                 Traceback (most recent call last)",
      "\u001b[1;32m<ipython-input-21-9f963d5fc0cf>\u001b[0m in \u001b[0;36m<module>\u001b[1;34m\u001b[0m\n\u001b[0;32m     31\u001b[0m \u001b[1;33m\u001b[0m\u001b[0m\n\u001b[0;32m     32\u001b[0m \u001b[1;32mfor\u001b[0m \u001b[0mi\u001b[0m \u001b[1;32min\u001b[0m \u001b[0mrange\u001b[0m\u001b[1;33m(\u001b[0m\u001b[1;36m3\u001b[0m\u001b[1;33m)\u001b[0m\u001b[1;33m:\u001b[0m\u001b[1;33m\u001b[0m\u001b[1;33m\u001b[0m\u001b[0m\n\u001b[1;32m---> 33\u001b[1;33m         ax.plot(np.arange(256)/256, \n\u001b[0m\u001b[0;32m     34\u001b[0m                 \u001b[0mrgba\u001b[0m\u001b[1;33m[\u001b[0m\u001b[1;33m:\u001b[0m\u001b[1;33m,\u001b[0m \u001b[0mi\u001b[0m\u001b[1;33m]\u001b[0m\u001b[1;33m,\u001b[0m\u001b[1;33m\u001b[0m\u001b[1;33m\u001b[0m\u001b[0m\n\u001b[0;32m     35\u001b[0m                 \u001b[0mcolor\u001b[0m \u001b[1;33m=\u001b[0m \u001b[0mcol\u001b[0m\u001b[1;33m[\u001b[0m\u001b[0mi\u001b[0m\u001b[1;33m]\u001b[0m\u001b[1;33m\u001b[0m\u001b[1;33m\u001b[0m\u001b[0m\n",
      "\u001b[1;31mNameError\u001b[0m: name 'ax' is not defined"
     ]
    }
   ],
   "source": [
    "cdict = {'red':[\n",
    "    [0.0, 0.0, 0.0], \n",
    "    [0.5, 1.0, 1.0], \n",
    "    [1.0, 1.0, 1.0]],\n",
    "         \n",
    "         'green':[\n",
    "             [0.0, 0.0,  0.0], \n",
    "             [0.25, 0.0, 0.0], \n",
    "             [0.75, 1.0, 1.0]], \n",
    "         \n",
    "         'blue':[\n",
    "             [0.0, 0.0, 0.0], \n",
    "             [0.5, 0.0, 0.0], \n",
    "             [1.0, 1.0, 1.0]]\n",
    "        }\n",
    "\n",
    "def plot_linearmap(cdict):\n",
    "    newcmp = LinearSegmentedColormap('testCmap', \n",
    "                                     segmentdata = cdict, \n",
    "                                     N = 256)\n",
    "    \n",
    "    rgba = newcmp(np.linspace(0, 1, 256))\n",
    "    fig, ax = plt.subplots(figsize=(4, 3), \n",
    "                           constrained_layout = True)\n",
    "    \n",
    "    col = ['r', 'g', 'b']\n",
    "    for xx in [0.25, 0.5, 0.75]:\n",
    "        ax.axvline(xx, \n",
    "                   color='0.7', \n",
    "                   linestyle='--')\n",
    " \n",
    "for i in range(3):\n",
    "        ax.plot(np.arange(256)/256, \n",
    "                rgba[:, i], \n",
    "                color = col[i]\n",
    "               )\n",
    "        \n",
    "        ax.set_xlabel('index')\n",
    "        ax.set_ylabel('RGB')\n",
    "        \n",
    "plt.show()\n",
    "    \n",
    "plot_linearmap(cdict)\n",
    "plt.savefig(r\"D:\\Python-Excel\\Data-analysis\\Python-Data-Science\\Objects\\Matplotlib\\images\\viridis4.jpg\")"
   ]
  },
  {
   "cell_type": "code",
   "execution_count": null,
   "metadata": {},
   "outputs": [],
   "source": []
  },
  {
   "cell_type": "code",
   "execution_count": null,
   "metadata": {},
   "outputs": [],
   "source": []
  },
  {
   "cell_type": "code",
   "execution_count": null,
   "metadata": {},
   "outputs": [],
   "source": []
  },
  {
   "cell_type": "code",
   "execution_count": null,
   "metadata": {},
   "outputs": [],
   "source": []
  }
 ],
 "metadata": {
  "kernelspec": {
   "display_name": "Python 3",
   "language": "python",
   "name": "python3"
  },
  "language_info": {
   "codemirror_mode": {
    "name": "ipython",
    "version": 3
   },
   "file_extension": ".py",
   "mimetype": "text/x-python",
   "name": "python",
   "nbconvert_exporter": "python",
   "pygments_lexer": "ipython3",
   "version": "3.7.5"
  },
  "toc": {
   "base_numbering": 1,
   "nav_menu": {},
   "number_sections": true,
   "sideBar": true,
   "skip_h1_title": false,
   "title_cell": "Table of Contents",
   "title_sidebar": "Contents",
   "toc_cell": false,
   "toc_position": {},
   "toc_section_display": true,
   "toc_window_display": false
  }
 },
 "nbformat": 4,
 "nbformat_minor": 2
}
