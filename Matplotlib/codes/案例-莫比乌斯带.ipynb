{
 "cells": [
  {
   "cell_type": "markdown",
   "metadata": {},
   "source": [
    "莫比乌斯带是把一根纸条扭转180度后，再把两头粘起来做成的纸袋圈。从拓扑学的角度看，莫比乌斯带非常神奇，因为它总共只有一个面。此时的关键是\n",
    "想出它的绘图参数：由于它是一条二维带，因此需要两个内在维度。让我们把一个维度定义为0，取值范围为0~2π；另一个维度是w，取值范围是-1~1，\n",
    "表示莫比乌斯带的宽度："
   ]
  },
  {
   "cell_type": "code",
   "execution_count": 1,
   "metadata": {},
   "outputs": [],
   "source": [
    "import matplotlib.pyplot as plt\n",
    "import numpy as np\n",
    "import pandas as pd\n",
    "%matplotlib inline\n",
    "theta = np.linspace(0, \n",
    "                    2 * np.pi, \n",
    "                    30)\n",
    "\n",
    "w = np.linspace(-0.25, \n",
    "                0.25, \n",
    "                8)\n",
    "w, theta = np.meshgrid(w, theta)"
   ]
  },
  {
   "cell_type": "markdown",
   "metadata": {},
   "source": [
    "有了参数之后，我们必须确定带上每个点的直角坐标(x, y, z)。我们可能会找到两种旋转关系：一种是圆圈绕着圆心旋转，另一种是莫比乌斯带在自己的\n",
    "坐标轴上旋转。因此，对于一条莫比乌斯带，我们必然会有环的一半扭转180度。示例代码如下："
   ]
  },
  {
   "cell_type": "code",
   "execution_count": 2,
   "metadata": {},
   "outputs": [],
   "source": [
    "phi = 0.5 * theta"
   ]
  },
  {
   "cell_type": "markdown",
   "metadata": {},
   "source": [
    "现在用我们所学的三角学知识将极坐标转换成三维直角坐标。定义每个点到中心的举例（半径）r, 那么直角坐标(x, y, z)就是："
   ]
  },
  {
   "cell_type": "code",
   "execution_count": 3,
   "metadata": {},
   "outputs": [],
   "source": [
    "# x - y平面内的半径\n",
    "r = 1 + w * np.cos(phi)\n",
    "\n",
    "x = np.ravel(r * np.cos(theta))\n",
    "y = np.ravel(r * np.sin(theta))\n",
    "z = np.ravel(w * np.sin(phi))"
   ]
  },
  {
   "cell_type": "markdown",
   "metadata": {},
   "source": [
    "最后，要画出莫比乌斯带，还必须确保三角形剖分是正确的。最好的实现方法就是首先用基本参数化方法定义三角剖分，然后用Matplotlib将这个三角\n",
    "剖分映射到莫比乌斯带的三维空间里，这样就可以画出图形。示例代码如下："
   ]
  },
  {
   "cell_type": "raw",
   "metadata": {},
   "source": [
    "# 用基本参数化方法定义三角剖分\n",
    "from matplotlib.tri import Triangulation\n",
    "tri = Triangulation(np.ravel(w), np.ravel(theta))\n",
    "\n",
    "ax = plt.axes(projection='3d')\n",
    "ax.plot_trisurf(x, y, z, triangles = tri.triangles, \n",
    "                cmap='viridis', linewidths=0.2)\n",
    "\n",
    "ax.set_xlim(-1, 1); ax.set_ylim(-1, 1); ax.set_zlim(-1, 1);"
   ]
  },
  {
   "cell_type": "code",
   "execution_count": null,
   "metadata": {},
   "outputs": [],
   "source": []
  },
  {
   "cell_type": "code",
   "execution_count": null,
   "metadata": {},
   "outputs": [],
   "source": []
  },
  {
   "cell_type": "code",
   "execution_count": null,
   "metadata": {},
   "outputs": [],
   "source": []
  },
  {
   "cell_type": "code",
   "execution_count": null,
   "metadata": {},
   "outputs": [],
   "source": []
  },
  {
   "cell_type": "code",
   "execution_count": null,
   "metadata": {},
   "outputs": [],
   "source": []
  },
  {
   "cell_type": "code",
   "execution_count": null,
   "metadata": {},
   "outputs": [],
   "source": []
  }
 ],
 "metadata": {
  "kernelspec": {
   "display_name": "Python 3",
   "language": "python",
   "name": "python3"
  },
  "language_info": {
   "codemirror_mode": {
    "name": "ipython",
    "version": 3
   },
   "file_extension": ".py",
   "mimetype": "text/x-python",
   "name": "python",
   "nbconvert_exporter": "python",
   "pygments_lexer": "ipython3",
   "version": "3.7.5"
  },
  "toc": {
   "base_numbering": 1,
   "nav_menu": {},
   "number_sections": true,
   "sideBar": true,
   "skip_h1_title": false,
   "title_cell": "Table of Contents",
   "title_sidebar": "Contents",
   "toc_cell": false,
   "toc_position": {},
   "toc_section_display": true,
   "toc_window_display": false
  }
 },
 "nbformat": 4,
 "nbformat_minor": 2
}
